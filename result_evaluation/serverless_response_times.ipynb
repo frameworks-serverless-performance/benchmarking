{
 "cells": [
  {
   "metadata": {},
   "cell_type": "code",
   "source": [
    "import pandas as pd\n",
    "import matplotlib.pyplot as plt\n",
    "import numpy as np\n",
    "import os"
   ],
   "id": "a9c6273f7d15205e",
   "outputs": [],
   "execution_count": null
  },
  {
   "metadata": {},
   "cell_type": "code",
   "source": [
    "def relative_response_time_plot(framework_concurrency):\n",
    "    serverless_results = pd.read_csv(\"../serverless_results.csv\")\n",
    "    framework_results = pd.read_csv(\"../results.csv\")\n",
    "    framework_results = framework_results[framework_results[\"concurrency\"] == framework_concurrency]\n",
    "    framework_results = framework_results[framework_results[\"framework\"] != \"express_big_instance_with_cluster\"]\n",
    "    framework_results = framework_results[framework_results[\"framework\"] != \"express_big_instance_without_cluster\"]\n",
    "    framework_results = framework_results[framework_results[\"framework\"] != \"express_without_cluster\"]\n",
    "    framework_results = framework_results[framework_results[\"framework\"] != \"spring_large_instance\"]\n",
    "    results = pd.concat([serverless_results, framework_results])\n",
    "    results = results.sort_values(by=[\"concurrency\", \"framework\"])\n",
    "    results = results.drop(columns=[\"concurrency\"])\n",
    "    \n",
    "    avg_response_time_spring = results[results[\"framework\"] == \"spring\"].groupby(\"endpoint\")[\"avg_response_time\"].max()\n",
    "    avg_response_time_express = results[results[\"framework\"] == \"express_with_cluster\"].groupby(\"endpoint\")[\"avg_response_time\"].max()\n",
    "    avg_response_time_django = results[results[\"framework\"] == \"django\"].groupby(\"endpoint\")[\"avg_response_time\"].max()\n",
    "    avg_response_time_serverless = results[results[\"framework\"] == \"serverless\"].groupby(\"endpoint\")[\"avg_response_time\"].max()\n",
    "    \n",
    "    avg_response_time_spring = avg_response_time_spring.rename(index={\"get_price\": \"getPrice\"})\n",
    "    avg_response_time_express = avg_response_time_express.rename(index={\"get_price\": \"getPrice\"})\n",
    "    avg_response_time_django = avg_response_time_django.rename(index={\"get_price\": \"getPrice\"})\n",
    "    avg_response_time_serverless = avg_response_time_serverless.rename(index={\"get_price\": \"getPrice\"})\n",
    "    \n",
    "    avg_response_time_spring = avg_response_time_spring.reindex([\"echo\", \"getPrice\", \"compute\", \"parse\", \"query\"])\n",
    "    avg_response_time_express = avg_response_time_express.reindex([\"echo\", \"getPrice\", \"compute\", \"parse\", \"query\"])\n",
    "    avg_response_time_django = avg_response_time_django.reindex([\"echo\", \"getPrice\", \"compute\", \"parse\", \"query\"])\n",
    "    avg_response_time_serverless = avg_response_time_serverless.reindex([\"echo\", \"getPrice\", \"compute\", \"parse\", \"query\"])\n",
    "    \n",
    "    avg_response_time_express = avg_response_time_express / avg_response_time_django\n",
    "    avg_response_time_spring = avg_response_time_spring / avg_response_time_django\n",
    "    avg_response_time_serverless = avg_response_time_serverless / avg_response_time_django\n",
    "    avg_response_time_django = avg_response_time_django / avg_response_time_django\n",
    "\n",
    "    avg_response_time_express[\"average\"] = avg_response_time_express.mean()\n",
    "    avg_response_time_spring[\"average\"] = avg_response_time_spring.mean()\n",
    "    avg_response_time_serverless[\"average\"] = avg_response_time_serverless.mean()\n",
    "    avg_response_time_django[\"average\"] = avg_response_time_django.mean()\n",
    "    \n",
    "    print(\"Average relative response time for Express: \", avg_response_time_express[\"average\"])\n",
    "    print(\"Average relative response time for Spring: \", avg_response_time_spring[\"average\"])\n",
    "    print(\"Average relative response time for Serverless: \", avg_response_time_serverless[\"average\"])\n",
    "    print(\"Average relative response time for Django: \", avg_response_time_django[\"average\"])\n",
    "\n",
    "    fig = plt.figure(figsize=(6, 3), dpi=200)\n",
    "    barWidth = 0.2\n",
    "    r1 = np.arange(len(avg_response_time_spring))\n",
    "    r2 = [x + barWidth for x in r1]\n",
    "    r3 = [x + barWidth for x in r2]\n",
    "    r4 = [x + barWidth for x in r3]\n",
    "    plt.bar(r1, avg_response_time_django, width=barWidth, label=\"Django\")\n",
    "    plt.bar(r2, avg_response_time_express, width=barWidth, label=\"Express\")\n",
    "    plt.bar(r3, avg_response_time_spring, width=barWidth, label=\"Spring\")\n",
    "    plt.bar(r4, avg_response_time_serverless, width=barWidth, label=\"Serverless\")\n",
    "    \n",
    "    handles, labels = plt.gca().get_legend_handles_labels()\n",
    "    order = [0, 1, 2, 3]\n",
    "    plt.legend([handles[idx] for idx in order], [labels[idx] for idx in order], ncol=4)\n",
    "    \n",
    "    plt.xticks([r + barWidth for r in range(len(avg_response_time_spring))], avg_response_time_spring.index)\n",
    "    plt.xlabel(\"Endpoint\", fontsize=11)\n",
    "    plt.ylabel(\"Relative mean response time\", fontsize=11)\n",
    "    plt.ylim(top=1.2)\n",
    "\n",
    "    fig_dir = \"../graphs/serverless_vs_frameworks/\"\n",
    "    os.makedirs(fig_dir, exist_ok=True)\n",
    "    plt.savefig(fig_dir + f\"/relative_response_times_framework_concurrency_{framework_concurrency}.png\",dpi=fig.dpi, bbox_inches = 'tight')\n",
    "    plt.show()\n",
    "    plt.close()"
   ],
   "id": "b8c0246cc7e89900",
   "outputs": [],
   "execution_count": null
  },
  {
   "metadata": {},
   "cell_type": "code",
   "source": "relative_response_time_plot(1)",
   "id": "abea27c991c401a0",
   "outputs": [],
   "execution_count": null
  },
  {
   "metadata": {},
   "cell_type": "code",
   "source": "relative_response_time_plot(64)",
   "id": "bbf5112101a20d72",
   "outputs": [],
   "execution_count": null
  },
  {
   "metadata": {},
   "cell_type": "code",
   "source": "",
   "id": "6c2c8bf749a0bbf8",
   "outputs": [],
   "execution_count": null
  }
 ],
 "metadata": {
  "kernelspec": {
   "display_name": "Python 3",
   "language": "python",
   "name": "python3"
  },
  "language_info": {
   "codemirror_mode": {
    "name": "ipython",
    "version": 2
   },
   "file_extension": ".py",
   "mimetype": "text/x-python",
   "name": "python",
   "nbconvert_exporter": "python",
   "pygments_lexer": "ipython2",
   "version": "2.7.6"
  }
 },
 "nbformat": 4,
 "nbformat_minor": 5
}
