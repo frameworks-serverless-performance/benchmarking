{
 "cells": [
  {
   "metadata": {},
   "cell_type": "code",
   "source": [
    "import pandas as pd\n",
    "import matplotlib.pyplot as plt\n",
    "import seaborn as sns\n",
    "import numpy as np\n",
    "import os"
   ],
   "id": "6502ee96163406ca",
   "outputs": [],
   "execution_count": null
  },
  {
   "metadata": {},
   "cell_type": "code",
   "source": "results = pd.read_csv(\"../serverless_results.csv\")",
   "id": "ff367c2034b382f2",
   "outputs": [],
   "execution_count": null
  },
  {
   "metadata": {},
   "cell_type": "code",
   "source": "results = results.sort_values(by=[\"concurrency\", \"framework\"])",
   "id": "15973c550ee0ade5",
   "outputs": [],
   "execution_count": null
  },
  {
   "metadata": {},
   "cell_type": "code",
   "source": "results = results[results[\"framework\"] != \"serverless\"]",
   "id": "b55cc452c233440d",
   "outputs": [],
   "execution_count": null
  },
  {
   "metadata": {},
   "cell_type": "code",
   "source": [
    "def request_per_second_plot(results, endpoint):\n",
    "    endpoint_results = results[results[\"endpoint\"] == endpoint]\n",
    "    fig = plt.figure(figsize=(4, 3), dpi=200)\n",
    "    plt.plot(endpoint_results[\"concurrency\"], endpoint_results[\"requests_per_second\"])\n",
    "    plt.plot(np.unique(endpoint_results[\"concurrency\"]), np.poly1d(np.polyfit(endpoint_results[\"concurrency\"], endpoint_results[\"requests_per_second\"], 1))(np.unique(endpoint_results[\"concurrency\"])), linestyle=\"--\", linewidth=1, color=\"black\")\n",
    "    plt.legend([\"_nolegend_\", \"Linear regression\"])\n",
    "    \n",
    "    plt.ylim(bottom=0)\n",
    "    plt.xticks(np.arange(1, 10, 1))\n",
    "    plt.xlabel(\"Concurrency\", fontsize=11)\n",
    "    plt.ylabel(\"Requests/s\", fontsize=11)\n",
    "\n",
    "    fig_dir = \"../graphs/serverless/\"\n",
    "    os.makedirs(fig_dir, exist_ok=True)\n",
    "    plt.savefig(fig_dir + f\"/{endpoint}_requests_per_second.png\", dpi=fig.dpi, bbox_inches = 'tight')\n",
    "    plt.show()\n",
    "    plt.close()\n",
    "    \n",
    "def avg_response_time_plot(results, endpoint):\n",
    "    endpoint_results = results[results[\"endpoint\"] == endpoint]\n",
    "    fig = plt.figure(figsize=(4, 3), dpi=200)\n",
    "    sns.lineplot(data=endpoint_results, x=\"concurrency\", y=\"avg_response_time\")\n",
    "    \n",
    "    plt.ylim(bottom=0)\n",
    "    plt.xticks(np.arange(1, 10, 1))\n",
    "    plt.xlabel(\"Concurrency\", fontsize=11)\n",
    "    plt.ylabel(\"Mean response time (ms)\", fontsize=11)\n",
    "    fig_dir = \"../graphs/serverless/\"\n",
    "    os.makedirs(fig_dir, exist_ok=True)\n",
    "    plt.savefig(fig_dir + f\"/{endpoint}_response_time.png\", dpi=fig.dpi, bbox_inches = 'tight')\n",
    "    plt.show()\n",
    "    plt.close()"
   ],
   "id": "bc4fd6df63e60b5a",
   "outputs": [],
   "execution_count": null
  },
  {
   "metadata": {},
   "cell_type": "code",
   "source": "request_per_second_plot(results, \"query\")",
   "id": "363ad2a7a2b5ebeb",
   "outputs": [],
   "execution_count": null
  },
  {
   "metadata": {},
   "cell_type": "code",
   "source": "avg_response_time_plot(results, \"query\")",
   "id": "33c86fb528554132",
   "outputs": [],
   "execution_count": null
  },
  {
   "metadata": {},
   "cell_type": "code",
   "source": "",
   "id": "94271f54ed68e9eb",
   "outputs": [],
   "execution_count": null
  }
 ],
 "metadata": {
  "kernelspec": {
   "display_name": "Python 3",
   "language": "python",
   "name": "python3"
  },
  "language_info": {
   "codemirror_mode": {
    "name": "ipython",
    "version": 2
   },
   "file_extension": ".py",
   "mimetype": "text/x-python",
   "name": "python",
   "nbconvert_exporter": "python",
   "pygments_lexer": "ipython2",
   "version": "2.7.6"
  }
 },
 "nbformat": 4,
 "nbformat_minor": 5
}
