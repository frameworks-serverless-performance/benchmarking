{
 "cells": [
  {
   "metadata": {},
   "cell_type": "code",
   "source": [
    "import pandas as pd\n",
    "import matplotlib.pyplot as plt\n",
    "import numpy as np\n",
    "import os"
   ],
   "id": "71cca23905d3f81b",
   "outputs": [],
   "execution_count": null
  },
  {
   "metadata": {},
   "cell_type": "code",
   "source": "results = pd.read_csv(\"../results.csv\")",
   "id": "6c1a03570c992c83",
   "outputs": [],
   "execution_count": null
  },
  {
   "metadata": {},
   "cell_type": "code",
   "source": "results = results.sort_values(by=[\"concurrency\", \"framework\"])",
   "id": "131e8eae429bb545",
   "outputs": [],
   "execution_count": null
  },
  {
   "metadata": {},
   "cell_type": "code",
   "source": "results = results[results[\"framework\"].isin([\"spring\", \"spring_large_instance\"])]",
   "id": "711dcb09160b1bd",
   "outputs": [],
   "execution_count": null
  },
  {
   "metadata": {},
   "cell_type": "code",
   "source": [
    "jmeter_requests_per_second = {\n",
    "    \"64\":\n",
    "        results[(results[\"framework\"] == \"spring\") & (results[\"concurrency\"] == 64) & (results[\"endpoint\"] == \"echo\")][\n",
    "            \"requests_per_second\"].values[0],\n",
    "    \"128\":\n",
    "        results[(results[\"framework\"] == \"spring\") & (results[\"concurrency\"] == 128) & (results[\"endpoint\"] == \"echo\")][\n",
    "            \"requests_per_second\"].values[0],\n",
    "    \"256\":\n",
    "        results[(results[\"framework\"] == \"spring\") & (results[\"concurrency\"] == 256) & (results[\"endpoint\"] == \"echo\")][\n",
    "            \"requests_per_second\"].values[0]\n",
    "}\n",
    "wrk_requests_per_second = {\n",
    "    \"64\": 57931.75,\n",
    "    \"128\": 58550.29,\n",
    "    \"256\": 56863.18\n",
    "}\n",
    "large_instance_jmeter_requests_per_second = {\n",
    "    \"64\":\n",
    "        results[(results[\"framework\"] == \"spring_large_instance\") & (results[\"concurrency\"] == 64) & (\n",
    "            results[\"endpoint\"] == \"echo\")][\"requests_per_second\"].values[0],\n",
    "    \"128\":\n",
    "        results[(results[\"framework\"] == \"spring_large_instance\") & (results[\"concurrency\"] == 128) & (\n",
    "            results[\"endpoint\"] == \"echo\")][\"requests_per_second\"].values[0],\n",
    "    \"256\":\n",
    "        results[(results[\"framework\"] == \"spring_large_instance\") & (results[\"concurrency\"] == 256) & (\n",
    "            results[\"endpoint\"] == \"echo\")][\"requests_per_second\"].values[0]\n",
    "}\n",
    "large_instance_wrk_requests_per_second = {\n",
    "    \"64\": 130054.50,\n",
    "    \"128\": 136761.24,\n",
    "    \"256\": 133896.48\n",
    "}"
   ],
   "id": "70b4c97f1472c156",
   "outputs": [],
   "execution_count": null
  },
  {
   "cell_type": "code",
   "id": "initial_id",
   "metadata": {
    "collapsed": true
   },
   "source": [
    "fig = plt.figure(figsize=(6, 3), dpi=200)\n",
    "barWidth = 0.2\n",
    "r1 = np.arange(len(jmeter_requests_per_second))\n",
    "r2 = [x + barWidth for x in r1]\n",
    "r3 = [x + barWidth for x in r2]\n",
    "r4 = [x + barWidth for x in r3]\n",
    "\n",
    "plt.bar(r1, jmeter_requests_per_second.values(), width=barWidth, label='JMeter (regular instance)')\n",
    "plt.bar(r2, wrk_requests_per_second.values(), width=barWidth, label='wrk (regular instance)')\n",
    "plt.bar(r3, large_instance_jmeter_requests_per_second.values(), width=barWidth, label='JMeter (larger instance)', hatch='////')\n",
    "plt.bar(r4, large_instance_wrk_requests_per_second.values(), width=barWidth, label='wrk (larger instance)', hatch='////')\n",
    "\n",
    "handles, labels = plt.gca().get_legend_handles_labels()\n",
    "order = [0, 1, 2, 3]\n",
    "plt.legend([handles[idx] for idx in order], [labels[idx] for idx in order], ncol=2)\n",
    "\n",
    "plt.xticks([r + barWidth * 1.5 for r in range(len(jmeter_requests_per_second))], jmeter_requests_per_second.keys())\n",
    "plt.xlabel(\"Concurrency\", fontsize=11)\n",
    "plt.ylabel(\"Requests/s\", fontsize=11)\n",
    "plt.ylim(top=180000)\n",
    "\n",
    "fig_dir = \"../graphs/setup_validation/\"\n",
    "os.makedirs(fig_dir, exist_ok=True)\n",
    "plt.savefig(fig_dir + \"/jmeter_vs_wrk_spring_echo_large_instance.png\", dpi=fig.dpi, bbox_inches='tight')\n",
    "plt.show()\n",
    "plt.close()"
   ],
   "outputs": [],
   "execution_count": null
  },
  {
   "metadata": {},
   "cell_type": "code",
   "source": "",
   "id": "4bb0f8fcc42cfc97",
   "outputs": [],
   "execution_count": null
  }
 ],
 "metadata": {
  "kernelspec": {
   "display_name": "Python 3",
   "language": "python",
   "name": "python3"
  },
  "language_info": {
   "codemirror_mode": {
    "name": "ipython",
    "version": 2
   },
   "file_extension": ".py",
   "mimetype": "text/x-python",
   "name": "python",
   "nbconvert_exporter": "python",
   "pygments_lexer": "ipython2",
   "version": "2.7.6"
  }
 },
 "nbformat": 4,
 "nbformat_minor": 5
}
