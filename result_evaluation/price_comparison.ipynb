{
 "cells": [
  {
   "cell_type": "code",
   "id": "initial_id",
   "metadata": {
    "collapsed": true
   },
   "source": [
    "import pandas as pd\n",
    "import matplotlib.pyplot as plt\n",
    "import os\n",
    "import math"
   ],
   "outputs": [],
   "execution_count": null
  },
  {
   "metadata": {},
   "cell_type": "code",
   "source": "results = pd.read_csv(\"../results.csv\")",
   "id": "ed0b597a9464ac1",
   "outputs": [],
   "execution_count": null
  },
  {
   "metadata": {},
   "cell_type": "code",
   "source": "results = results.sort_values(by=[\"concurrency\", \"framework\"])",
   "id": "375f6f7e0336e9eb",
   "outputs": [],
   "execution_count": null
  },
  {
   "metadata": {},
   "cell_type": "code",
   "source": [
    "results = results[results[\"framework\"] != \"express_without_cluster\"]\n",
    "results = results[results[\"framework\"] != \"express_big_instance_without_cluster\"]\n",
    "results = results[results[\"framework\"] != \"express_big_instance_with_cluster\"]\n",
    "results = results[results[\"framework\"] != \"spring_large_instance\"]"
   ],
   "id": "e1d51392bb38b708",
   "outputs": [],
   "execution_count": null
  },
  {
   "metadata": {},
   "cell_type": "code",
   "source": [
    "max_requests_per_second_spring = results[results[\"framework\"] == \"spring\"].groupby(\"endpoint\")[\"requests_per_second\"].max()\n",
    "max_requests_per_second_express = results[results[\"framework\"] == \"express_with_cluster\"].groupby(\"endpoint\")[\"requests_per_second\"].max()\n",
    "max_requests_per_second_django = results[results[\"framework\"] == \"django\"].groupby(\"endpoint\")[\"requests_per_second\"].max()\n",
    "\n",
    "max_requests_per_second_spring_get_price_endpoint = max_requests_per_second_spring[\"get_price\"]\n",
    "max_requests_per_second_express_get_price_endpoint = max_requests_per_second_express[\"get_price\"]\n",
    "max_requests_per_second_django_get_price_endpoint = max_requests_per_second_django[\"get_price\"]"
   ],
   "id": "60af57c85d3ace04",
   "outputs": [],
   "execution_count": null
  },
  {
   "metadata": {},
   "cell_type": "code",
   "source": "ec2_instance_price_per_second = 0.12075 / 3600",
   "id": "34138181e76c9207",
   "outputs": [],
   "execution_count": null
  },
  {
   "metadata": {},
   "cell_type": "code",
   "source": [
    "fig = plt.figure(figsize=(6, 3), dpi=200)\n",
    "plt.plot(range(1, 10001), [(ec2_instance_price_per_second * (math.ceil(i / max_requests_per_second_django_get_price_endpoint))) / i for i in range(1, 10001)], label=\"Django\")\n",
    "plt.plot(range(1, 10001), [(ec2_instance_price_per_second * (math.ceil(i / max_requests_per_second_express_get_price_endpoint))) / i for i in range(1, 10001)], label=\"Express\")\n",
    "plt.plot(range(1, 10001), [(ec2_instance_price_per_second * (math.ceil(i / max_requests_per_second_spring_get_price_endpoint))) / i for i in range(1, 10001)], label=\"Spring\")\n",
    "\n",
    "handles, labels = plt.gca().get_legend_handles_labels()\n",
    "order = [2, 1, 0]\n",
    "plt.legend([handles[idx] for idx in order], [labels[idx] for idx in order])\n",
    "\n",
    "plt.ylim(top=0.0004 / 3600, bottom=0)\n",
    "plt.xlabel(\"Requests per second\")\n",
    "plt.ylabel(\"Cost per request (USD)\")\n",
    "\n",
    "fig_dir = \"../graphs/framework_price_comparison/\"\n",
    "os.makedirs(fig_dir, exist_ok=True)\n",
    "plt.savefig(fig_dir + \"/get_price_price_per_request.png\",dpi=fig.dpi, bbox_inches = 'tight')\n",
    "plt.show()\n",
    "plt.close()"
   ],
   "id": "915333e210856892",
   "outputs": [],
   "execution_count": null
  },
  {
   "metadata": {},
   "cell_type": "code",
   "source": "",
   "id": "274568756b5fcc07",
   "outputs": [],
   "execution_count": null
  }
 ],
 "metadata": {
  "kernelspec": {
   "display_name": "Python 3",
   "language": "python",
   "name": "python3"
  },
  "language_info": {
   "codemirror_mode": {
    "name": "ipython",
    "version": 2
   },
   "file_extension": ".py",
   "mimetype": "text/x-python",
   "name": "python",
   "nbconvert_exporter": "python",
   "pygments_lexer": "ipython2",
   "version": "2.7.6"
  }
 },
 "nbformat": 4,
 "nbformat_minor": 5
}
