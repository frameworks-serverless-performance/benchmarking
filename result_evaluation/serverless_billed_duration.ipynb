{
 "cells": [
  {
   "cell_type": "code",
   "id": "initial_id",
   "metadata": {
    "collapsed": true
   },
   "source": [
    "import pandas as pd\n",
    "import matplotlib.pyplot as plt\n",
    "import os\n",
    "import math"
   ],
   "outputs": [],
   "execution_count": null
  },
  {
   "metadata": {},
   "cell_type": "code",
   "source": [
    "def get_mean_function_duration(endpoint_name):\n",
    "    logs = pd.read_json(f\"../cloudwatch_logs/{endpoint_name}_cloudwatch_logs.json\")\n",
    "    # filter logs to only include logs with a time after\n",
    "    logs = logs[logs[\"@message\"].str.startswith(\"REPORT\")]\n",
    "    logs[\"duration\"] = logs[\"@message\"].str.extract(r\"Duration: (\\d+\\.\\d+) ms\")\n",
    "    logs[\"billed_duration\"] = logs[\"@message\"].str.extract(r\"Billed Duration: (\\d+) ms\")\n",
    "    logs[\"duration\"] = pd.to_numeric(logs[\"duration\"])\n",
    "    logs[\"billed_duration\"] = pd.to_numeric(logs[\"billed_duration\"])\n",
    "    return logs[\"duration\"].mean()"
   ],
   "id": "a74c00b2464461a5",
   "outputs": [],
   "execution_count": null
  },
  {
   "metadata": {},
   "cell_type": "code",
   "source": "get_mean_function_duration(\"echo\")",
   "id": "9955a6c5c09bf53b",
   "outputs": [],
   "execution_count": null
  },
  {
   "metadata": {},
   "cell_type": "code",
   "source": [
    "def get_mean_billed_duration(endpoint_name):\n",
    "    logs = pd.read_json(f\"../cloudwatch_logs/{endpoint_name}_cloudwatch_logs.json\")\n",
    "    logs = logs[logs[\"@message\"].str.startswith(\"REPORT\")]\n",
    "    logs[\"duration\"] = logs[\"@message\"].str.extract(r\"Duration: (\\d+\\.\\d+) ms\")\n",
    "    logs[\"billed_duration\"] = logs[\"@message\"].str.extract(r\"Billed Duration: (\\d+) ms\")\n",
    "    logs[\"duration\"] = pd.to_numeric(logs[\"duration\"])\n",
    "    logs[\"billed_duration\"] = pd.to_numeric(logs[\"billed_duration\"])\n",
    "    return logs[\"billed_duration\"].mean()"
   ],
   "id": "d007a4e7dbf49db8",
   "outputs": [],
   "execution_count": null
  },
  {
   "metadata": {},
   "cell_type": "code",
   "source": [
    "endpoints = [\"echo\", \"getPrice\", \"compute\", \"parse\", \"query\"]\n",
    "df = pd.DataFrame(index=endpoints)\n",
    "df[\"mean_duration\"] = [get_mean_function_duration(endpoint) for endpoint in endpoints]\n",
    "df[\"mean_billed_duration\"] = [get_mean_billed_duration(endpoint) for endpoint in endpoints]"
   ],
   "id": "81643f6e9e184d09",
   "outputs": [],
   "execution_count": null
  },
  {
   "metadata": {},
   "cell_type": "code",
   "source": "df[\"billed_gb_seconds\"] = (df[\"mean_billed_duration\"] * 0.128) / 1000",
   "id": "dd0afca5c90a9c08",
   "outputs": [],
   "execution_count": null
  },
  {
   "metadata": {},
   "cell_type": "code",
   "source": [
    "# we calculate the cost of the duration\n",
    "price_per_gb_second = 0.0000166667\n",
    "df[\"duration_cost\"] = df[\"billed_gb_seconds\"] * price_per_gb_second"
   ],
   "id": "ef2bc056df065160",
   "outputs": [],
   "execution_count": null
  },
  {
   "metadata": {},
   "cell_type": "code",
   "source": [
    "price_per_function_request = 0.0000002\n",
    "price_per_api_gateway_request = 0.0000012\n",
    "# request cost is duration_cost + price_per_function_request + price_per_api_gateway_request\n",
    "df[\"request_cost\"] = df[\"duration_cost\"] + price_per_function_request + price_per_api_gateway_request"
   ],
   "id": "7d8d124ee09ce501",
   "outputs": [],
   "execution_count": null
  },
  {
   "metadata": {},
   "cell_type": "code",
   "source": "print(df[\"billed_gb_seconds\"][4])",
   "id": "abd2ea67388e1e04",
   "outputs": [],
   "execution_count": null
  },
  {
   "metadata": {},
   "cell_type": "code",
   "source": [
    "results = pd.read_csv(\"../results.csv\")\n",
    "results = results.sort_values(by=[\"concurrency\", \"framework\"])\n",
    "results = results[results[\"framework\"] != \"express_without_cluster\"]\n",
    "results = results[results[\"framework\"] != \"express_big_instance_without_cluster\"]\n",
    "results = results[results[\"framework\"] != \"express_big_instance_with_cluster\"]\n",
    "results = results[results[\"framework\"] != \"spring_large_instance\"]"
   ],
   "id": "cd2cb2324f26c4d9",
   "outputs": [],
   "execution_count": null
  },
  {
   "metadata": {},
   "cell_type": "code",
   "source": "ec2_instance_price_per_second = 0.12075 / 3600",
   "id": "b395de7758f39f44",
   "outputs": [],
   "execution_count": null
  },
  {
   "metadata": {},
   "cell_type": "code",
   "source": [
    "def price_per_request_chart(serverless_df, results, endpoint):\n",
    "    max_requests_per_second_spring = results[results[\"framework\"] == \"spring\"].groupby(\"endpoint\")[\"requests_per_second\"].max()\n",
    "    max_requests_per_second_express = results[results[\"framework\"] == \"express_with_cluster\"].groupby(\"endpoint\")[\"requests_per_second\"].max()\n",
    "    max_requests_per_second_django = results[results[\"framework\"] == \"django\"].groupby(\"endpoint\")[\"requests_per_second\"].max()\n",
    "    \n",
    "    max_requests_per_second_spring_for_endpoint = max_requests_per_second_spring[endpoint]\n",
    "    max_requests_per_second_express_for_endpoint = max_requests_per_second_express[endpoint]\n",
    "    max_requests_per_second_django_for_endpoint = max_requests_per_second_django[endpoint]\n",
    "    \n",
    "    serverless_cost_per_request = serverless_df.loc[endpoint if endpoint != \"get_price\" else \"getPrice\", \"request_cost\"]\n",
    "    \n",
    "    fig = plt.figure(figsize=(6, 3), dpi=200)\n",
    "    \n",
    "    max_value_for_chart = 76\n",
    "    plt.plot(range(1, max_value_for_chart), [(ec2_instance_price_per_second * (math.ceil(i / max_requests_per_second_django_for_endpoint))) / i for i in range(1, max_value_for_chart)], label=\"_nolegend_\")\n",
    "    plt.plot(range(1, max_value_for_chart), [(ec2_instance_price_per_second * (math.ceil(i / max_requests_per_second_express_for_endpoint))) / i for i in range(1, max_value_for_chart)], label=\"_nolegend_\")\n",
    "    plt.plot(range(1, max_value_for_chart), [(ec2_instance_price_per_second * (math.ceil(i / max_requests_per_second_spring_for_endpoint))) / i for i in range(1, max_value_for_chart)], label=\"All frameworks\")\n",
    "    plt.plot(range(1, max_value_for_chart), [serverless_cost_per_request for i in range(1, max_value_for_chart)], label=\"Serverless\")\n",
    "    \n",
    "    handles, labels = plt.gca().get_legend_handles_labels()\n",
    "    order = [0, 1]\n",
    "    plt.legend([handles[idx] for idx in order], [labels[idx] for idx in order])\n",
    "    \n",
    "    plt.ylim(top=0.02 / 3600, bottom=0)\n",
    "    plt.xlabel(\"Requests per second\")\n",
    "    plt.ylabel(\"Cost per request (USD)\")\n",
    "    \n",
    "    # calculate the x value at which the serverless cost is equal to the spring cost\n",
    "    x = (ec2_instance_price_per_second * (math.ceil(max_requests_per_second_spring_for_endpoint / max_requests_per_second_spring_for_endpoint))) / serverless_cost_per_request\n",
    "    # vertical line at x that stops at the height of the intersection\n",
    "    plt.plot([x, x], [0, serverless_cost_per_request], linestyle=\"--\", color=\"black\")\n",
    "    \n",
    "    # add label on the x axis\n",
    "    plt.text(x + 1, 0.0000004, f\"{x:.2f} requests/s\", verticalalignment='bottom')\n",
    "    \n",
    "    fig_dir = \"../graphs/framework_serverless_price_comparison/\"\n",
    "    os.makedirs(fig_dir, exist_ok=True)\n",
    "    plt.savefig(fig_dir + f\"/{endpoint}_price_per_request.png\",dpi=fig.dpi, bbox_inches = 'tight')\n",
    "    plt.show()\n",
    "    plt.close()"
   ],
   "id": "56817007cf2d59a",
   "outputs": [],
   "execution_count": null
  },
  {
   "metadata": {},
   "cell_type": "code",
   "source": "price_per_request_chart(df, results, \"get_price\")",
   "id": "48e12f138e6ad338",
   "outputs": [],
   "execution_count": null
  },
  {
   "metadata": {},
   "cell_type": "code",
   "source": [
    "def price_per_request_chart_query(serverless_df, results):\n",
    "    endpoint = \"query\"\n",
    "    max_requests_per_second_spring = results[results[\"framework\"] == \"spring\"].groupby(\"endpoint\")[\"requests_per_second\"].max()\n",
    "    max_requests_per_second_express = results[results[\"framework\"] == \"express_with_cluster\"].groupby(\"endpoint\")[\"requests_per_second\"].max()\n",
    "    max_requests_per_second_django = results[results[\"framework\"] == \"django\"].groupby(\"endpoint\")[\"requests_per_second\"].max()\n",
    "    \n",
    "    max_requests_per_second_spring_for_endpoint = max_requests_per_second_spring[endpoint]\n",
    "    max_requests_per_second_express_for_endpoint = max_requests_per_second_express[endpoint]\n",
    "    max_requests_per_second_django_for_endpoint = max_requests_per_second_django[endpoint]\n",
    "    \n",
    "    serverless_cost_per_request = serverless_df.loc[endpoint if endpoint != \"get_price\" else \"getPrice\", \"request_cost\"]\n",
    "    \n",
    "    fig = plt.figure(figsize=(6, 3), dpi=200)\n",
    "    \n",
    "    max_value_for_chart = 36\n",
    "    plt.plot(range(1, max_value_for_chart), [(ec2_instance_price_per_second * (math.ceil(i / max_requests_per_second_django_for_endpoint))) / i for i in range(1, max_value_for_chart)], label=\"Django\")\n",
    "    plt.plot(range(1, max_value_for_chart), [(ec2_instance_price_per_second * (math.ceil(i / max_requests_per_second_express_for_endpoint))) / i for i in range(1, max_value_for_chart)], label=\"Express\")\n",
    "    plt.plot(range(1, max_value_for_chart), [(ec2_instance_price_per_second * (math.ceil(i / max_requests_per_second_spring_for_endpoint))) / i for i in range(1, max_value_for_chart)], label=\"Spring\")\n",
    "    plt.plot(range(1, max_value_for_chart), [serverless_cost_per_request for i in range(1, max_value_for_chart)], label=\"Serverless\")\n",
    "    \n",
    "    handles, labels = plt.gca().get_legend_handles_labels()\n",
    "    order = [2, 3, 0, 1]\n",
    "    plt.legend([handles[idx] for idx in order], [labels[idx] for idx in order], loc=\"upper right\", ncol=2)\n",
    "    \n",
    "    plt.ylim(top=0.045 / 3600, bottom=0)\n",
    "    plt.xlabel(\"Requests per second\")\n",
    "    plt.ylabel(\"Cost per request (USD)\")\n",
    "    \n",
    "    # calculate the x value at which the serverless cost is equal to the spring cost\n",
    "    x = (ec2_instance_price_per_second * (math.ceil(max_requests_per_second_spring_for_endpoint / max_requests_per_second_spring_for_endpoint))) / serverless_cost_per_request\n",
    "    # vertical line at x that stops at the height of the intersection\n",
    "    plt.plot([x, x], [0, serverless_cost_per_request], linestyle=\"--\", color=\"black\")\n",
    "    \n",
    "    # add label on the x axis\n",
    "    plt.text(x + 1, 0.0000004, f\"{x:.2f} requests/s\", verticalalignment='bottom')\n",
    "    \n",
    "    fig_dir = \"../graphs/framework_serverless_price_comparison/\"\n",
    "    os.makedirs(fig_dir, exist_ok=True)\n",
    "    plt.savefig(fig_dir + f\"/{endpoint}_price_per_request.png\",dpi=fig.dpi, bbox_inches = 'tight')\n",
    "    plt.show()\n",
    "    plt.close()"
   ],
   "id": "6d46d745dc32c4f6",
   "outputs": [],
   "execution_count": null
  },
  {
   "metadata": {},
   "cell_type": "code",
   "source": "price_per_request_chart_query(df, results)",
   "id": "c6348df080eb2a91",
   "outputs": [],
   "execution_count": null
  },
  {
   "metadata": {},
   "cell_type": "code",
   "source": "",
   "id": "5bc0cf05aa40efe7",
   "outputs": [],
   "execution_count": null
  }
 ],
 "metadata": {
  "kernelspec": {
   "display_name": "Python 3",
   "language": "python",
   "name": "python3"
  },
  "language_info": {
   "codemirror_mode": {
    "name": "ipython",
    "version": 2
   },
   "file_extension": ".py",
   "mimetype": "text/x-python",
   "name": "python",
   "nbconvert_exporter": "python",
   "pygments_lexer": "ipython2",
   "version": "2.7.6"
  }
 },
 "nbformat": 4,
 "nbformat_minor": 5
}
