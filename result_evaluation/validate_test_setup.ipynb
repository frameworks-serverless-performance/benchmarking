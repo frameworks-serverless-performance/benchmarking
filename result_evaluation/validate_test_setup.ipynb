{
 "cells": [
  {
   "cell_type": "code",
   "id": "initial_id",
   "metadata": {
    "collapsed": true
   },
   "source": [
    "import pandas as pd\n",
    "import matplotlib.pyplot as plt\n",
    "import numpy as np\n",
    "import os"
   ],
   "outputs": [],
   "execution_count": null
  },
  {
   "metadata": {},
   "cell_type": "code",
   "source": "results = pd.read_csv(\"../results.csv\")",
   "id": "57731f9fc0043fcf",
   "outputs": [],
   "execution_count": null
  },
  {
   "metadata": {},
   "cell_type": "code",
   "source": "results = results.sort_values(by=[\"concurrency\", \"framework\"])",
   "id": "bb0969c1a18a621a",
   "outputs": [],
   "execution_count": null
  },
  {
   "metadata": {},
   "cell_type": "code",
   "source": [
    "# we only care about the results for spring and spring_large_instance\n",
    "results = results[results[\"framework\"].isin([\"spring\", \"spring_large_instance\"])]"
   ],
   "id": "f97e96fbc6958945",
   "outputs": [],
   "execution_count": null
  },
  {
   "metadata": {},
   "cell_type": "code",
   "source": [
    "jmeter_requests_per_second = {\n",
    "    \"64\": results[(results[\"framework\"] == \"spring\") & (results[\"concurrency\"] == 64) & (results[\"endpoint\"] == \"echo\")][\"requests_per_second\"].values[0],\n",
    "    \"128\": results[(results[\"framework\"] == \"spring\") & (results[\"concurrency\"] == 128) & (results[\"endpoint\"] == \"echo\")][\"requests_per_second\"].values[0],\n",
    "    \"256\": results[(results[\"framework\"] == \"spring\") & (results[\"concurrency\"] == 256) & (results[\"endpoint\"] == \"echo\")][\"requests_per_second\"].values[0]\n",
    "}\n",
    "wrk_requests_per_second = {\n",
    "    \"64\": 57931.75,\n",
    "    \"128\": 58550.29,\n",
    "    \"256\": 56863.18\n",
    "}"
   ],
   "id": "75119565107ea21e",
   "outputs": [],
   "execution_count": null
  },
  {
   "metadata": {},
   "cell_type": "code",
   "source": [
    "relative_difference = {}\n",
    "for key in jmeter_requests_per_second.keys():\n",
    "    relative_difference[key] = (wrk_requests_per_second[key] - jmeter_requests_per_second[key]) / jmeter_requests_per_second[key] * 100\n",
    "print(relative_difference)"
   ],
   "id": "c822e9e3ed349365",
   "outputs": [],
   "execution_count": null
  },
  {
   "metadata": {},
   "cell_type": "code",
   "source": [
    "fig = plt.figure(figsize=(4, 3), dpi=200)\n",
    "barWidth = 0.4\n",
    "r1 = np.arange(len(jmeter_requests_per_second))\n",
    "r2 = [x + barWidth for x in r1]\n",
    "\n",
    "plt.bar(r1, jmeter_requests_per_second.values(), width=barWidth, label='JMeter')\n",
    "plt.bar(r2, wrk_requests_per_second.values(), width=barWidth, label='wrk')\n",
    "\n",
    "handles, labels = plt.gca().get_legend_handles_labels()\n",
    "order = [0, 1]\n",
    "plt.legend([handles[idx] for idx in order], [labels[idx] for idx in order])\n",
    "\n",
    "plt.xticks([r + barWidth/2 for r in range(len(jmeter_requests_per_second))], jmeter_requests_per_second.keys())\n",
    "plt.xlabel(\"Concurrency\", fontsize=11)\n",
    "plt.ylabel(\"Requests/s\", fontsize=11)\n",
    "plt.ylim(top=75000)\n",
    "\n",
    "fig_dir = \"../graphs/setup_validation/\"\n",
    "os.makedirs(fig_dir, exist_ok=True)\n",
    "plt.savefig(fig_dir + \"/jmeter_vs_wrk_spring_echo.png\",dpi=fig.dpi, bbox_inches = 'tight')\n",
    "plt.show()\n",
    "plt.close()"
   ],
   "id": "fd448901c747a025",
   "outputs": [],
   "execution_count": null
  },
  {
   "metadata": {},
   "cell_type": "code",
   "source": [
    "jmeter_requests_per_second_compute = {\n",
    "    \"64\": results[(results[\"framework\"] == \"spring\") & (results[\"concurrency\"] == 64) & (results[\"endpoint\"] == \"compute\")][\"requests_per_second\"].values[0],\n",
    "    \"128\": results[(results[\"framework\"] == \"spring\") & (results[\"concurrency\"] == 128) & (results[\"endpoint\"] == \"compute\")][\"requests_per_second\"].values[0],\n",
    "    \"256\": results[(results[\"framework\"] == \"spring\") & (results[\"concurrency\"] == 256) & (results[\"endpoint\"] == \"compute\")][\"requests_per_second\"].values[0]\n",
    "}\n",
    "wrk_requests_per_second_compute = {\n",
    "    \"64\": 24983.61,\n",
    "    \"128\": 25534.18,\n",
    "    \"256\": 24078.89\n",
    "}"
   ],
   "id": "88e8d14ddfe84942",
   "outputs": [],
   "execution_count": null
  },
  {
   "metadata": {},
   "cell_type": "code",
   "source": [
    "relative_difference = {}\n",
    "for key in jmeter_requests_per_second_compute.keys():\n",
    "    relative_difference[key] = (wrk_requests_per_second_compute[key] - jmeter_requests_per_second_compute[key]) / jmeter_requests_per_second_compute[key] * 100\n",
    "print(relative_difference)"
   ],
   "id": "476261714f9b8235",
   "outputs": [],
   "execution_count": null
  },
  {
   "metadata": {},
   "cell_type": "code",
   "source": [
    "fig = plt.figure(figsize=(4, 3), dpi=200)\n",
    "barWidth = 0.4\n",
    "r1 = np.arange(len(jmeter_requests_per_second_compute))\n",
    "r2 = [x + barWidth for x in r1]\n",
    "\n",
    "plt.bar(r1, jmeter_requests_per_second_compute.values(), width=barWidth, label='JMeter')\n",
    "plt.bar(r2, wrk_requests_per_second_compute.values(), width=barWidth, label='wrk')\n",
    "\n",
    "handles, labels = plt.gca().get_legend_handles_labels()\n",
    "order = [0, 1]\n",
    "plt.legend([handles[idx] for idx in order], [labels[idx] for idx in order])\n",
    "\n",
    "plt.xticks([r + barWidth/2 for r in range(len(jmeter_requests_per_second_compute))], jmeter_requests_per_second_compute.keys())\n",
    "plt.xlabel(\"Concurrency\", fontsize=11)\n",
    "plt.ylabel(\"Requests/s\", fontsize=11)\n",
    "plt.ylim(top=32000)\n",
    "\n",
    "fig_dir = \"../graphs/setup_validation/\"\n",
    "os.makedirs(fig_dir, exist_ok=True)\n",
    "plt.savefig(fig_dir + \"/jmeter_vs_wrk_spring_compute.png\",dpi=fig.dpi, bbox_inches = 'tight')\n",
    "plt.show()\n",
    "plt.close()"
   ],
   "id": "c71ae534c5d1933",
   "outputs": [],
   "execution_count": null
  },
  {
   "metadata": {},
   "cell_type": "code",
   "source": "",
   "id": "be506b43272b5c73",
   "outputs": [],
   "execution_count": null
  }
 ],
 "metadata": {
  "kernelspec": {
   "display_name": "Python 3",
   "language": "python",
   "name": "python3"
  },
  "language_info": {
   "codemirror_mode": {
    "name": "ipython",
    "version": 2
   },
   "file_extension": ".py",
   "mimetype": "text/x-python",
   "name": "python",
   "nbconvert_exporter": "python",
   "pygments_lexer": "ipython2",
   "version": "2.7.6"
  }
 },
 "nbformat": 4,
 "nbformat_minor": 5
}
