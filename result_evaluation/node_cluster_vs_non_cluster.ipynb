{
 "cells": [
  {
   "metadata": {},
   "cell_type": "markdown",
   "source": "# Comparing performance of the Express implementation with and without node cluster module",
   "id": "9e270092ab4675af"
  },
  {
   "metadata": {},
   "cell_type": "code",
   "source": [
    "import pandas as pd\n",
    "import matplotlib.pyplot as plt\n",
    "import numpy as np\n",
    "import os\n",
    "import seaborn as sns"
   ],
   "id": "6502ee96163406ca",
   "outputs": [],
   "execution_count": null
  },
  {
   "metadata": {},
   "cell_type": "code",
   "source": "results = pd.read_csv(\"../results.csv\")",
   "id": "ff367c2034b382f2",
   "outputs": [],
   "execution_count": null
  },
  {
   "metadata": {},
   "cell_type": "code",
   "source": "results = results.sort_values([\"concurrency\", \"framework\"], ascending=[True, False])",
   "id": "15973c550ee0ade5",
   "outputs": [],
   "execution_count": null
  },
  {
   "metadata": {},
   "cell_type": "code",
   "source": [
    "def request_per_second_plot(results, endpoint, framework1, framework2, is_larger_instance):\n",
    "    framework_results = results[(results[\"framework\"] == framework1) | (results[\"framework\"] == framework2)]\n",
    "    endpoint_results = framework_results[framework_results[\"endpoint\"] == endpoint]\n",
    "    fig = plt.figure(figsize=(4, 3), dpi=200)\n",
    "    sns.lineplot(data=endpoint_results, x=\"concurrency\", y=\"requests_per_second\", hue=\"framework\")\n",
    "    handles, labels = plt.gca().get_legend_handles_labels()\n",
    "    order = [0, 1]\n",
    "    plt.gca().legend([handles[idx] for idx in order], [labels[idx] for idx in order])\n",
    "    \n",
    "    for label in plt.gca().get_legend().get_texts():\n",
    "        if label.get_text() == \"express_without_cluster\":\n",
    "            label.set_text(\"Without Node cluster\")\n",
    "        elif label.get_text() == \"express_with_cluster\":\n",
    "            label.set_text(\"With Node cluster\")\n",
    "        elif label.get_text() == \"express_big_instance_without_cluster\":\n",
    "            label.set_text(\"Without Node cluster (larger instance)\")\n",
    "        elif label.get_text() == \"express_big_instance_with_cluster\":\n",
    "            label.set_text(\"With Node cluster (larger instance)\")\n",
    "    \n",
    "    plt.xscale(\"log\", base=2)\n",
    "    plt.ylim(bottom=0)\n",
    "    plt.xticks([2**i for i in range(9)], [2**i for i in range(9)])\n",
    "    plt.xlabel(\"Concurrency\", fontsize=11)\n",
    "    plt.ylabel(\"Requests/s\", fontsize=11)\n",
    "    #plt.title(f\"Express {endpoint if endpoint != 'get_price' else 'getPrice'} endpoint\")\n",
    "    fig_dir = \"../graphs/node_cluster_vs_non_cluster/\" + (\"larger_instance\" if is_larger_instance else \"normal_instance\") + \"/\"\n",
    "    os.makedirs(fig_dir, exist_ok=True)\n",
    "    plt.savefig(\"../graphs/node_cluster_vs_non_cluster/\" + (\"larger_instance\" if is_larger_instance else \"normal_instance\") + f\"/express_{endpoint}_requests_per_second.png\", dpi=fig.dpi, bbox_inches = 'tight')\n",
    "    plt.show()\n",
    "    plt.close()\n",
    "    \n",
    "def response_time_plot(results, endpoint, framework1, framework2, is_larger_instance):\n",
    "    framework_results = results[(results[\"framework\"] == framework1) | (results[\"framework\"] == framework2)]\n",
    "    endpoint_results = framework_results[framework_results[\"endpoint\"] == endpoint]\n",
    "    fig = plt.figure(figsize=(4, 3), dpi=200)\n",
    "    sns.lineplot(data=endpoint_results, x=\"concurrency\", y=\"avg_response_time\", hue=\"framework\")\n",
    "    handles, labels = plt.gca().get_legend_handles_labels()\n",
    "    order = [0, 1]\n",
    "    plt.gca().legend([handles[idx] for idx in order], [labels[idx] for idx in order])\n",
    "    \n",
    "    for label in plt.gca().get_legend().get_texts():\n",
    "        if label.get_text() == \"express_without_cluster\":\n",
    "            label.set_text(\"Without Node cluster\")\n",
    "        elif label.get_text() == \"express_with_cluster\":\n",
    "            label.set_text(\"With Node cluster\")\n",
    "        elif label.get_text() == \"express_big_instance_without_cluster\":\n",
    "            label.set_text(\"Without Node cluster (larger instance)\")\n",
    "        elif label.get_text() == \"express_big_instance_with_cluster\":\n",
    "            label.set_text(\"With Node cluster (larger instance)\")\n",
    "    \n",
    "    plt.xscale(\"log\", base=2)\n",
    "    plt.ylim(bottom=0)\n",
    "    plt.xticks([2**i for i in range(9)], [2**i for i in range(9)])\n",
    "    plt.xlabel(\"Concurrency\", fontsize=11)\n",
    "    plt.ylabel(\"Mean response time (ms)\", fontsize=11)\n",
    "    #plt.title(f\"Express {endpoint if endpoint != 'get_price' else 'getPrice'} endpoint\")\n",
    "    fig_dir = \"../graphs/node_cluster_vs_non_cluster/\" + (\"larger_instance\" if is_larger_instance else \"normal_instance\") + \"/\"\n",
    "    os.makedirs(fig_dir, exist_ok=True)\n",
    "    plt.savefig(\"../graphs/node_cluster_vs_non_cluster/\" + (\"larger_instance\" if is_larger_instance else \"normal_instance\") + f\"/express_{endpoint}_response_time.png\", dpi=fig.dpi, bbox_inches = 'tight')\n",
    "    plt.show()\n",
    "    plt.close()"
   ],
   "id": "2280d170b0575a00",
   "outputs": [],
   "execution_count": null
  },
  {
   "metadata": {},
   "cell_type": "code",
   "source": "request_per_second_plot(results, \"echo\", \"express_without_cluster\", \"express_with_cluster\", False)",
   "id": "592003ff33bbbb2b",
   "outputs": [],
   "execution_count": null
  },
  {
   "metadata": {},
   "cell_type": "code",
   "source": "response_time_plot(results, \"echo\", \"express_without_cluster\", \"express_with_cluster\", False)",
   "id": "de267f1d8758ff27",
   "outputs": [],
   "execution_count": null
  },
  {
   "metadata": {},
   "cell_type": "code",
   "source": "request_per_second_plot(results, \"get_price\", \"express_without_cluster\", \"express_with_cluster\", False)",
   "id": "bfe04cb8a22ef93",
   "outputs": [],
   "execution_count": null
  },
  {
   "metadata": {},
   "cell_type": "code",
   "source": "response_time_plot(results, \"get_price\", \"express_without_cluster\", \"express_with_cluster\", False)",
   "id": "83a7cc7691c2067a",
   "outputs": [],
   "execution_count": null
  },
  {
   "metadata": {},
   "cell_type": "code",
   "source": "request_per_second_plot(results, \"compute\", \"express_without_cluster\", \"express_with_cluster\", False)",
   "id": "ac90f04828619634",
   "outputs": [],
   "execution_count": null
  },
  {
   "metadata": {},
   "cell_type": "code",
   "source": "response_time_plot(results, \"compute\", \"express_without_cluster\", \"express_with_cluster\", False)",
   "id": "e0600318ee37e060",
   "outputs": [],
   "execution_count": null
  },
  {
   "metadata": {},
   "cell_type": "code",
   "source": "request_per_second_plot(results, \"parse\", \"express_without_cluster\", \"express_with_cluster\", False)",
   "id": "79ae91b0fb838c96",
   "outputs": [],
   "execution_count": null
  },
  {
   "metadata": {},
   "cell_type": "code",
   "source": "response_time_plot(results, \"parse\", \"express_without_cluster\", \"express_with_cluster\", False)",
   "id": "eec95d7ea92080ae",
   "outputs": [],
   "execution_count": null
  },
  {
   "metadata": {},
   "cell_type": "code",
   "source": "request_per_second_plot(results, \"query\", \"express_without_cluster\", \"express_with_cluster\", False)",
   "id": "4155d15991e0d46f",
   "outputs": [],
   "execution_count": null
  },
  {
   "metadata": {},
   "cell_type": "code",
   "source": "response_time_plot(results, \"query\", \"express_without_cluster\", \"express_with_cluster\", False)",
   "id": "faf8709a6a1f4744",
   "outputs": [],
   "execution_count": null
  },
  {
   "metadata": {},
   "cell_type": "code",
   "source": [
    "def relative_performance_plot(results, without_cluster_framework, with_cluster_framework, is_larger_instance):\n",
    "    max_requests_per_second_without_cluster = results[results[\"framework\"] == without_cluster_framework].groupby(\"endpoint\")[\"requests_per_second\"].max()\n",
    "    max_requests_per_second_with_cluster = results[results[\"framework\"] == with_cluster_framework].groupby(\"endpoint\")[\"requests_per_second\"].max()\n",
    "    max_requests_per_second_without_cluster = max_requests_per_second_without_cluster.rename(index={\"get_price\": \"getPrice\"})\n",
    "    max_requests_per_second_with_cluster = max_requests_per_second_with_cluster.rename(index={\"get_price\": \"getPrice\"})\n",
    "    max_requests_per_second_without_cluster = max_requests_per_second_without_cluster.reindex([\"echo\", \"getPrice\", \"compute\", \"parse\", \"query\"])\n",
    "    max_requests_per_second_with_cluster = max_requests_per_second_with_cluster.reindex([\"echo\", \"getPrice\", \"compute\", \"parse\", \"query\"])\n",
    "    max_requests_per_second_with_cluster = max_requests_per_second_with_cluster / max_requests_per_second_without_cluster\n",
    "    max_requests_per_second_without_cluster = max_requests_per_second_without_cluster / max_requests_per_second_without_cluster\n",
    "    max_requests_per_second_without_cluster[\"average\"] = max_requests_per_second_without_cluster.mean()\n",
    "    max_requests_per_second_with_cluster[\"average\"] = max_requests_per_second_with_cluster.mean()\n",
    "    \n",
    "    fig = plt.figure(figsize=(6, 3), dpi=200)\n",
    "    barWidth = 0.35\n",
    "    r1 = np.arange(len(max_requests_per_second_without_cluster))\n",
    "    r2 = [x + barWidth for x in r1]\n",
    "    label_without_cluster = \"Without Node cluster\" if not is_larger_instance else \"Without Node cluster (larger instance)\"\n",
    "    label_with_cluster = \"With Node cluster\" if not is_larger_instance else \"With Node cluster (larger instance)\"\n",
    "    plt.bar(r1, max_requests_per_second_without_cluster, width=barWidth, label=label_without_cluster)\n",
    "    plt.bar(r2, max_requests_per_second_with_cluster, width=barWidth, label=label_with_cluster)\n",
    "    plt.xticks([r + barWidth/2 for r in range(len(max_requests_per_second_without_cluster))], max_requests_per_second_without_cluster.index)\n",
    "    plt.xlabel(\"Endpoint\", fontsize=11)\n",
    "    plt.ylabel(\"Relative requests/s\", fontsize=11)\n",
    "    if not is_larger_instance:\n",
    "        plt.ylim(top=1.7)\n",
    "    else:\n",
    "        plt.ylim(top=3)\n",
    "    #plt.title(\"Relative Express performance\")\n",
    "    handles, labels = plt.gca().get_legend_handles_labels()\n",
    "    order = [1, 0]\n",
    "    plt.legend([handles[idx] for idx in order], [labels[idx] for idx in order])\n",
    "    for i in range(len(max_requests_per_second_without_cluster)):\n",
    "        relative_increase = (max_requests_per_second_with_cluster[i] - 1) * 100\n",
    "        if relative_increase > 0:\n",
    "            relative_increase = f\"+{relative_increase:.1f}%\"\n",
    "        else:\n",
    "            relative_increase = f\"{relative_increase:.1f}%\"\n",
    "        plt.text(r2[i] + 0.05, max_requests_per_second_with_cluster[i], relative_increase, ha=\"center\", va=\"bottom\", fontsize=8)\n",
    "    \n",
    "    fig_dir = \"../graphs/node_cluster_vs_non_cluster/\" + (\"larger_instance\" if is_larger_instance else \"normal_instance\") + \"/\"\n",
    "    os.makedirs(fig_dir, exist_ok=True)\n",
    "    plt.savefig(\"../graphs/node_cluster_vs_non_cluster/\" + (\"larger_instance\" if is_larger_instance else \"normal_instance\") + \"/express_relative_performance.png\", dpi=fig.dpi, bbox_inches = 'tight')\n",
    "    plt.show()\n",
    "    plt.close()"
   ],
   "id": "72a9f5bfbf685ecf",
   "outputs": [],
   "execution_count": null
  },
  {
   "metadata": {},
   "cell_type": "code",
   "source": "relative_performance_plot(results, \"express_without_cluster\", \"express_with_cluster\", False)",
   "id": "ff86bcb8bd07bf59",
   "outputs": [],
   "execution_count": null
  },
  {
   "metadata": {},
   "cell_type": "code",
   "source": "# Now we do the same for the larger instance",
   "id": "4441f70b2f872a43",
   "outputs": [],
   "execution_count": null
  },
  {
   "metadata": {},
   "cell_type": "code",
   "source": "request_per_second_plot(results, \"echo\", \"express_big_instance_without_cluster\", \"express_big_instance_with_cluster\", True)",
   "id": "e975d52a1654684b",
   "outputs": [],
   "execution_count": null
  },
  {
   "metadata": {},
   "cell_type": "code",
   "source": "response_time_plot(results, \"echo\", \"express_big_instance_without_cluster\", \"express_big_instance_with_cluster\", True)",
   "id": "6bd39f7c567a9354",
   "outputs": [],
   "execution_count": null
  },
  {
   "metadata": {},
   "cell_type": "code",
   "source": "request_per_second_plot(results, \"get_price\", \"express_big_instance_without_cluster\", \"express_big_instance_with_cluster\", True)",
   "id": "6381b624fe7778d2",
   "outputs": [],
   "execution_count": null
  },
  {
   "metadata": {},
   "cell_type": "code",
   "source": "response_time_plot(results, \"get_price\", \"express_big_instance_without_cluster\", \"express_big_instance_with_cluster\", True)",
   "id": "c9eef124ddf61614",
   "outputs": [],
   "execution_count": null
  },
  {
   "metadata": {},
   "cell_type": "code",
   "source": "request_per_second_plot(results, \"compute\", \"express_big_instance_without_cluster\", \"express_big_instance_with_cluster\", True)",
   "id": "454c854e62726e79",
   "outputs": [],
   "execution_count": null
  },
  {
   "metadata": {},
   "cell_type": "code",
   "source": "response_time_plot(results, \"compute\", \"express_big_instance_without_cluster\", \"express_big_instance_with_cluster\", True)",
   "id": "84d98975a1f0fadb",
   "outputs": [],
   "execution_count": null
  },
  {
   "metadata": {},
   "cell_type": "code",
   "source": "request_per_second_plot(results, \"parse\", \"express_big_instance_without_cluster\", \"express_big_instance_with_cluster\", True)",
   "id": "7348f7bcffa69a72",
   "outputs": [],
   "execution_count": null
  },
  {
   "metadata": {},
   "cell_type": "code",
   "source": "response_time_plot(results, \"parse\", \"express_big_instance_without_cluster\", \"express_big_instance_with_cluster\", True)",
   "id": "762b4741b0011876",
   "outputs": [],
   "execution_count": null
  },
  {
   "metadata": {},
   "cell_type": "code",
   "source": "request_per_second_plot(results, \"query\", \"express_big_instance_without_cluster\", \"express_big_instance_with_cluster\", True)",
   "id": "9595477e092b28a0",
   "outputs": [],
   "execution_count": null
  },
  {
   "metadata": {},
   "cell_type": "code",
   "source": "response_time_plot(results, \"query\", \"express_big_instance_without_cluster\", \"express_big_instance_with_cluster\", True)",
   "id": "6e8ef2ce6c58632c",
   "outputs": [],
   "execution_count": null
  },
  {
   "metadata": {},
   "cell_type": "code",
   "source": "relative_performance_plot(results, \"express_big_instance_without_cluster\", \"express_big_instance_with_cluster\", True)",
   "id": "ea338bae195cd398",
   "outputs": [],
   "execution_count": null
  },
  {
   "metadata": {},
   "cell_type": "code",
   "source": "",
   "id": "c2bb40a17b2ec6ce",
   "outputs": [],
   "execution_count": null
  }
 ],
 "metadata": {
  "kernelspec": {
   "display_name": "Python 3",
   "language": "python",
   "name": "python3"
  },
  "language_info": {
   "codemirror_mode": {
    "name": "ipython",
    "version": 2
   },
   "file_extension": ".py",
   "mimetype": "text/x-python",
   "name": "python",
   "nbconvert_exporter": "python",
   "pygments_lexer": "ipython2",
   "version": "2.7.6"
  }
 },
 "nbformat": 4,
 "nbformat_minor": 5
}
